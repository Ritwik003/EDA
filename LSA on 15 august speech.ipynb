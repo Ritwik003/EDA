{
 "cells": [
  {
   "cell_type": "code",
   "execution_count": 20,
   "id": "55420f5c",
   "metadata": {},
   "outputs": [
    {
     "name": "stdout",
     "output_type": "stream",
     "text": [
      "(0, '0.523*\"of\" + 0.378*\"the\" + 0.320*\"to\" + 0.203*\"and\" + 0.203*\"is\" + 0.203*\"all\" + 0.145*\"their\" + 0.145*\"this\" + 0.116*\"by\" + 0.116*\"a\"')\n"
     ]
    }
   ],
   "source": [
    "from gensim import corpora\n",
    "from gensim.models import LsiModel\n",
    "from gensim.utils import tokenize\n",
    "\n",
    "# Sample documents\n",
    "documents =[\"Best wishes to my dear countrymen on the momentous occasion of completion of 75 years of Independence. Many congratulations to all! It is heartening to see our tricolour being unfurled with pride, honour, and glory, not only in all the corners of India but also worldwide by Indians who love their country immensely.\"\n",
    "            \"My heartfelt greetings to all my dear Indians on this Amrit Mahotsav festival of celebrating our freedom. This is a day of historic importance. This is an auspicious occasion to step forward on a new path with a new resolution and a new strength.\"\"In the pursuit of Independence, the entire period of slavery was spent in struggle. No part of India or any time period remained untouched by the freedom struggle against several centuries of slavery and marked by people sacrificing themselves facing torture and making supreme sacrifice. Today is an opportunity for all of us countrymen to bow down and salute all such brave hearts, the legends of every sacrifice made by every great soul. This is an opportunity to also solemnly acknowledge their debt and pledge, to fulfil their dreams at the earliest with deep resolve.\"\"All the countrymen are deeply indebted to Pujya Bapu, Netaji Subhash Chandra Bose, Babasaheb Ambedkar, Veer Savarkar, who devoted all their life on the path of duty towards the nation. The path of obligation has been their sole life path.\"\"This country is grateful to Mangal Pandey, Tatya Tope, Bhagat Singh, Sukhdev, Rajguru, Chandrashekhar Azad, Ashfaqulla Khan, Ram Prasad Bismil, and countless such revolutionaries of ours who shook the foundations of British ruleThis nation is grateful to those brave women, be it Rani Lakshmibai, Jhalkari Bai, Durga Bhabhi, Rani Gaidinliu, Rani Chennamma, Begum Hasrat Mahal, Velu Nachiyar, who showed the mettle of women power of India.\"]\n",
    "\n",
    "\n",
    "# Tokenize documents\n",
    "texts = [[word for word in tokenize(document.lower())] for document in documents]\n",
    "\n",
    "# Create dictionary\n",
    "dictionary = corpora.Dictionary(texts)\n",
    "\n",
    "# Create corpus\n",
    "corpus = [dictionary.doc2bow(text) for text in texts]\n",
    "\n",
    "# Train LSA model\n",
    "lsi_model = LsiModel(corpus=corpus, id2word=dictionary, num_topics=2)\n",
    "\n",
    "# Print topics\n",
    "for topic in lsi_model.show_topics():\n",
    "    print(topic)\n"
   ]
  },
  {
   "cell_type": "code",
   "execution_count": null,
   "id": "05af653a",
   "metadata": {},
   "outputs": [],
   "source": []
  },
  {
   "cell_type": "code",
   "execution_count": null,
   "id": "f46af53b",
   "metadata": {},
   "outputs": [],
   "source": []
  }
 ],
 "metadata": {
  "kernelspec": {
   "display_name": "Python 3 (ipykernel)",
   "language": "python",
   "name": "python3"
  },
  "language_info": {
   "codemirror_mode": {
    "name": "ipython",
    "version": 3
   },
   "file_extension": ".py",
   "mimetype": "text/x-python",
   "name": "python",
   "nbconvert_exporter": "python",
   "pygments_lexer": "ipython3",
   "version": "3.10.9"
  }
 },
 "nbformat": 4,
 "nbformat_minor": 5
}
