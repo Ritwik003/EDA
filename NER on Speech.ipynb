{
 "cells": [
  {
   "cell_type": "code",
   "execution_count": 1,
   "id": "9c7e5650",
   "metadata": {},
   "outputs": [
    {
     "name": "stdout",
     "output_type": "stream",
     "text": [
      "Requirement already satisfied: nltk in d:\\anaconda\\lib\\site-packages (3.7)\n",
      "Requirement already satisfied: joblib in d:\\anaconda\\lib\\site-packages (from nltk) (1.1.1)\n",
      "Requirement already satisfied: regex>=2021.8.3 in d:\\anaconda\\lib\\site-packages (from nltk) (2022.7.9)\n",
      "Requirement already satisfied: click in d:\\anaconda\\lib\\site-packages (from nltk) (8.0.4)\n",
      "Requirement already satisfied: tqdm in d:\\anaconda\\lib\\site-packages (from nltk) (4.64.1)\n",
      "Requirement already satisfied: colorama in d:\\anaconda\\lib\\site-packages (from click->nltk) (0.4.6)\n",
      "Note: you may need to restart the kernel to use updated packages.\n"
     ]
    }
   ],
   "source": [
    "pip install nltk"
   ]
  },
  {
   "cell_type": "code",
   "execution_count": 8,
   "id": "3b0f3c3f",
   "metadata": {},
   "outputs": [
    {
     "name": "stdout",
     "output_type": "stream",
     "text": [
      "Modi - PERSON\n",
      "India - GPE\n"
     ]
    },
    {
     "name": "stderr",
     "output_type": "stream",
     "text": [
      "[nltk_data] Downloading package punkt to\n",
      "[nltk_data]     C:\\Users\\ritwi\\AppData\\Roaming\\nltk_data...\n",
      "[nltk_data]   Package punkt is already up-to-date!\n",
      "[nltk_data] Downloading package averaged_perceptron_tagger to\n",
      "[nltk_data]     C:\\Users\\ritwi\\AppData\\Roaming\\nltk_data...\n",
      "[nltk_data]   Package averaged_perceptron_tagger is already up-to-\n",
      "[nltk_data]       date!\n",
      "[nltk_data] Downloading package maxent_ne_chunker to\n",
      "[nltk_data]     C:\\Users\\ritwi\\AppData\\Roaming\\nltk_data...\n",
      "[nltk_data]   Package maxent_ne_chunker is already up-to-date!\n",
      "[nltk_data] Downloading package words to\n",
      "[nltk_data]     C:\\Users\\ritwi\\AppData\\Roaming\\nltk_data...\n",
      "[nltk_data]   Package words is already up-to-date!\n"
     ]
    }
   ],
   "source": [
    "import nltk\n",
    "from nltk import word_tokenize, pos_tag, ne_chunk\n",
    "\n",
    "# Download the necessary NLTK resources (if not already downloaded)\n",
    "nltk.download('punkt')\n",
    "nltk.download('averaged_perceptron_tagger')\n",
    "nltk.download('maxent_ne_chunker')\n",
    "nltk.download('words')\n",
    "\n",
    "def perform_ner(text):\n",
    "    # Tokenize the input text into words\n",
    "    words = word_tokenize(text)\n",
    "\n",
    "    # Perform part-of-speech tagging to identify words as nouns, verbs, etc.\n",
    "    tagged_words = pos_tag(words)\n",
    "\n",
    "    # Perform Named Entity Recognition using the ne_chunk function\n",
    "    ner_result = ne_chunk(tagged_words)\n",
    "\n",
    "    # Extract named entities from the NER result\n",
    "    named_entities = []\n",
    "    for chunk in ner_result:\n",
    "        if hasattr(chunk, 'label'):\n",
    "            entity_name = ' '.join(c[0] for c in chunk.leaves())\n",
    "            entity_type = chunk.label()\n",
    "            named_entities.append((entity_name, entity_type))\n",
    "\n",
    "    return named_entities\n",
    "\n",
    "if __name__ == \"__main__\":\n",
    "    # Example text\n",
    "    text = \"In his first Independence-Day speech after taking over as prime minister in 2014, Mr Modi had condemned rapes in India and questioned parents for putting restrictions on their daughters while letting their sons do as they pleased.\"\n",
    "\n",
    "\"On Monday too, he spoke about gender equality and emphasised the importance of treating sons and daughters as equal at home.\"\n",
    "\n",
    "\"Maybe this is not a topic for the Red Fort, but who else can I share my pain with if not with the people of my country?\" \n",
    "\n",
    "\"For some reason, a distortion has crept into our conduct, our behaviour, our words so at times we insult women. Can we take a pledge to stop this behaviour?\" \n",
    "\n",
    "    # Perform NER on the text\n",
    "entities = perform_ner(text)\n",
    "\n",
    "    # Print the identified named entities\n",
    "for entity_name, entity_type in entities:\n",
    "        print(f\"{entity_name} - {entity_type}\")\n"
   ]
  },
  {
   "cell_type": "code",
   "execution_count": null,
   "id": "0aa284bd",
   "metadata": {},
   "outputs": [],
   "source": []
  }
 ],
 "metadata": {
  "kernelspec": {
   "display_name": "Python 3 (ipykernel)",
   "language": "python",
   "name": "python3"
  },
  "language_info": {
   "codemirror_mode": {
    "name": "ipython",
    "version": 3
   },
   "file_extension": ".py",
   "mimetype": "text/x-python",
   "name": "python",
   "nbconvert_exporter": "python",
   "pygments_lexer": "ipython3",
   "version": "3.10.9"
  }
 },
 "nbformat": 4,
 "nbformat_minor": 5
}
